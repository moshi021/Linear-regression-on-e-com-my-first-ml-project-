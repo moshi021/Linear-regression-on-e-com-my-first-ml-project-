{
 "cells": [
  {
   "cell_type": "code",
   "execution_count": 1,
   "id": "b763cb6a",
   "metadata": {},
   "outputs": [],
   "source": [
    "import numpy as np\n",
    "import pandas as pd\n",
    "import matplotlib.pyplot as plt\n",
    "import math, copy"
   ]
  },
  {
   "cell_type": "code",
   "execution_count": 2,
   "id": "b36ea977",
   "metadata": {},
   "outputs": [
    {
     "data": {
      "text/html": [
       "<div>\n",
       "<style scoped>\n",
       "    .dataframe tbody tr th:only-of-type {\n",
       "        vertical-align: middle;\n",
       "    }\n",
       "\n",
       "    .dataframe tbody tr th {\n",
       "        vertical-align: top;\n",
       "    }\n",
       "\n",
       "    .dataframe thead th {\n",
       "        text-align: right;\n",
       "    }\n",
       "</style>\n",
       "<table border=\"1\" class=\"dataframe\">\n",
       "  <thead>\n",
       "    <tr style=\"text-align: right;\">\n",
       "      <th></th>\n",
       "      <th>Email</th>\n",
       "      <th>Address</th>\n",
       "      <th>Avatar</th>\n",
       "      <th>Avg. Session Length</th>\n",
       "      <th>Time on App</th>\n",
       "      <th>Time on Website</th>\n",
       "      <th>Length of Membership</th>\n",
       "      <th>Yearly Amount Spent</th>\n",
       "    </tr>\n",
       "  </thead>\n",
       "  <tbody>\n",
       "    <tr>\n",
       "      <th>0</th>\n",
       "      <td>mstephenson@fernandez.com</td>\n",
       "      <td>835 Frank Tunnel\\nWrightmouth, MI 82180-9605</td>\n",
       "      <td>Violet</td>\n",
       "      <td>34.497268</td>\n",
       "      <td>12.655651</td>\n",
       "      <td>39.577668</td>\n",
       "      <td>4.082621</td>\n",
       "      <td>587.951054</td>\n",
       "    </tr>\n",
       "    <tr>\n",
       "      <th>1</th>\n",
       "      <td>hduke@hotmail.com</td>\n",
       "      <td>4547 Archer Common\\nDiazchester, CA 06566-8576</td>\n",
       "      <td>DarkGreen</td>\n",
       "      <td>31.926272</td>\n",
       "      <td>11.109461</td>\n",
       "      <td>37.268959</td>\n",
       "      <td>2.664034</td>\n",
       "      <td>392.204933</td>\n",
       "    </tr>\n",
       "    <tr>\n",
       "      <th>2</th>\n",
       "      <td>pallen@yahoo.com</td>\n",
       "      <td>24645 Valerie Unions Suite 582\\nCobbborough, D...</td>\n",
       "      <td>Bisque</td>\n",
       "      <td>33.000915</td>\n",
       "      <td>11.330278</td>\n",
       "      <td>37.110597</td>\n",
       "      <td>4.104543</td>\n",
       "      <td>487.547505</td>\n",
       "    </tr>\n",
       "    <tr>\n",
       "      <th>3</th>\n",
       "      <td>riverarebecca@gmail.com</td>\n",
       "      <td>1414 David Throughway\\nPort Jason, OH 22070-1220</td>\n",
       "      <td>SaddleBrown</td>\n",
       "      <td>34.305557</td>\n",
       "      <td>13.717514</td>\n",
       "      <td>36.721283</td>\n",
       "      <td>3.120179</td>\n",
       "      <td>581.852344</td>\n",
       "    </tr>\n",
       "    <tr>\n",
       "      <th>4</th>\n",
       "      <td>mstephens@davidson-herman.com</td>\n",
       "      <td>14023 Rodriguez Passage\\nPort Jacobville, PR 3...</td>\n",
       "      <td>MediumAquaMarine</td>\n",
       "      <td>33.330673</td>\n",
       "      <td>12.795189</td>\n",
       "      <td>37.536653</td>\n",
       "      <td>4.446308</td>\n",
       "      <td>599.406092</td>\n",
       "    </tr>\n",
       "    <tr>\n",
       "      <th>...</th>\n",
       "      <td>...</td>\n",
       "      <td>...</td>\n",
       "      <td>...</td>\n",
       "      <td>...</td>\n",
       "      <td>...</td>\n",
       "      <td>...</td>\n",
       "      <td>...</td>\n",
       "      <td>...</td>\n",
       "    </tr>\n",
       "    <tr>\n",
       "      <th>495</th>\n",
       "      <td>lewisjessica@craig-evans.com</td>\n",
       "      <td>4483 Jones Motorway Suite 872\\nLake Jamiefurt,...</td>\n",
       "      <td>Tan</td>\n",
       "      <td>33.237660</td>\n",
       "      <td>13.566160</td>\n",
       "      <td>36.417985</td>\n",
       "      <td>3.746573</td>\n",
       "      <td>573.847438</td>\n",
       "    </tr>\n",
       "    <tr>\n",
       "      <th>496</th>\n",
       "      <td>katrina56@gmail.com</td>\n",
       "      <td>172 Owen Divide Suite 497\\nWest Richard, CA 19320</td>\n",
       "      <td>PaleVioletRed</td>\n",
       "      <td>34.702529</td>\n",
       "      <td>11.695736</td>\n",
       "      <td>37.190268</td>\n",
       "      <td>3.576526</td>\n",
       "      <td>529.049004</td>\n",
       "    </tr>\n",
       "    <tr>\n",
       "      <th>497</th>\n",
       "      <td>dale88@hotmail.com</td>\n",
       "      <td>0787 Andrews Ranch Apt. 633\\nSouth Chadburgh, ...</td>\n",
       "      <td>Cornsilk</td>\n",
       "      <td>32.646777</td>\n",
       "      <td>11.499409</td>\n",
       "      <td>38.332576</td>\n",
       "      <td>4.958264</td>\n",
       "      <td>551.620145</td>\n",
       "    </tr>\n",
       "    <tr>\n",
       "      <th>498</th>\n",
       "      <td>cwilson@hotmail.com</td>\n",
       "      <td>680 Jennifer Lodge Apt. 808\\nBrendachester, TX...</td>\n",
       "      <td>Teal</td>\n",
       "      <td>33.322501</td>\n",
       "      <td>12.391423</td>\n",
       "      <td>36.840086</td>\n",
       "      <td>2.336485</td>\n",
       "      <td>456.469510</td>\n",
       "    </tr>\n",
       "    <tr>\n",
       "      <th>499</th>\n",
       "      <td>hannahwilson@davidson.com</td>\n",
       "      <td>49791 Rachel Heights Apt. 898\\nEast Drewboroug...</td>\n",
       "      <td>DarkMagenta</td>\n",
       "      <td>33.715981</td>\n",
       "      <td>12.418808</td>\n",
       "      <td>35.771016</td>\n",
       "      <td>2.735160</td>\n",
       "      <td>497.778642</td>\n",
       "    </tr>\n",
       "  </tbody>\n",
       "</table>\n",
       "<p>500 rows × 8 columns</p>\n",
       "</div>"
      ],
      "text/plain": [
       "                             Email  \\\n",
       "0        mstephenson@fernandez.com   \n",
       "1                hduke@hotmail.com   \n",
       "2                 pallen@yahoo.com   \n",
       "3          riverarebecca@gmail.com   \n",
       "4    mstephens@davidson-herman.com   \n",
       "..                             ...   \n",
       "495   lewisjessica@craig-evans.com   \n",
       "496            katrina56@gmail.com   \n",
       "497             dale88@hotmail.com   \n",
       "498            cwilson@hotmail.com   \n",
       "499      hannahwilson@davidson.com   \n",
       "\n",
       "                                               Address            Avatar  \\\n",
       "0         835 Frank Tunnel\\nWrightmouth, MI 82180-9605            Violet   \n",
       "1       4547 Archer Common\\nDiazchester, CA 06566-8576         DarkGreen   \n",
       "2    24645 Valerie Unions Suite 582\\nCobbborough, D...            Bisque   \n",
       "3     1414 David Throughway\\nPort Jason, OH 22070-1220       SaddleBrown   \n",
       "4    14023 Rodriguez Passage\\nPort Jacobville, PR 3...  MediumAquaMarine   \n",
       "..                                                 ...               ...   \n",
       "495  4483 Jones Motorway Suite 872\\nLake Jamiefurt,...               Tan   \n",
       "496  172 Owen Divide Suite 497\\nWest Richard, CA 19320     PaleVioletRed   \n",
       "497  0787 Andrews Ranch Apt. 633\\nSouth Chadburgh, ...          Cornsilk   \n",
       "498  680 Jennifer Lodge Apt. 808\\nBrendachester, TX...              Teal   \n",
       "499  49791 Rachel Heights Apt. 898\\nEast Drewboroug...       DarkMagenta   \n",
       "\n",
       "     Avg. Session Length  Time on App  Time on Website  Length of Membership  \\\n",
       "0              34.497268    12.655651        39.577668              4.082621   \n",
       "1              31.926272    11.109461        37.268959              2.664034   \n",
       "2              33.000915    11.330278        37.110597              4.104543   \n",
       "3              34.305557    13.717514        36.721283              3.120179   \n",
       "4              33.330673    12.795189        37.536653              4.446308   \n",
       "..                   ...          ...              ...                   ...   \n",
       "495            33.237660    13.566160        36.417985              3.746573   \n",
       "496            34.702529    11.695736        37.190268              3.576526   \n",
       "497            32.646777    11.499409        38.332576              4.958264   \n",
       "498            33.322501    12.391423        36.840086              2.336485   \n",
       "499            33.715981    12.418808        35.771016              2.735160   \n",
       "\n",
       "     Yearly Amount Spent  \n",
       "0             587.951054  \n",
       "1             392.204933  \n",
       "2             487.547505  \n",
       "3             581.852344  \n",
       "4             599.406092  \n",
       "..                   ...  \n",
       "495           573.847438  \n",
       "496           529.049004  \n",
       "497           551.620145  \n",
       "498           456.469510  \n",
       "499           497.778642  \n",
       "\n",
       "[500 rows x 8 columns]"
      ]
     },
     "execution_count": 2,
     "metadata": {},
     "output_type": "execute_result"
    }
   ],
   "source": [
    "data=pd.read_csv('Ecommerce')\n",
    "data"
   ]
  },
  {
   "cell_type": "code",
   "execution_count": 3,
   "id": "7e822803",
   "metadata": {},
   "outputs": [],
   "source": [
    "X = data[['Avg. Session Length', 'Time on App', 'Time on Website', 'Length of Membership']]\n",
    "y= data['Yearly Amount Spent']\n",
    "\n"
   ]
  },
  {
   "cell_type": "code",
   "execution_count": 4,
   "id": "0a417a3d",
   "metadata": {},
   "outputs": [],
   "source": [
    "from sklearn.model_selection import train_test_split\n",
    "\n",
    "X_train, X_test, y_train, y_test = train_test_split(X,y,test_size=0.3, random_state=42)"
   ]
  },
  {
   "cell_type": "code",
   "execution_count": 5,
   "id": "82f41f70",
   "metadata": {},
   "outputs": [],
   "source": [
    "\n",
    "X_tr=X_train.to_numpy()\n",
    "y_tr=y_train.to_numpy()\n",
    "X_te=X_test.to_numpy()\n",
    "y_te=y_test.to_numpy()\n",
    "\n",
    "\n"
   ]
  },
  {
   "cell_type": "markdown",
   "id": "90f3d52a",
   "metadata": {},
   "source": [
    "# Prediction"
   ]
  },
  {
   "cell_type": "code",
   "execution_count": 6,
   "id": "c285f9b3",
   "metadata": {},
   "outputs": [],
   "source": [
    "def predict(X,w,b):\n",
    "    n,m=X.shape\n",
    "    result=np.array([])\n",
    "    for i in range(n):\n",
    "        prediction=np.dot(X[i],w)+b\n",
    "        result=np.append(result,prediction)\n",
    "    return result\n",
    "\n",
    "\n",
    "\n",
    "\n",
    "# def predict(X, w, b):\n",
    "#     return np.dot(X, w) + b\n"
   ]
  },
  {
   "cell_type": "code",
   "execution_count": 7,
   "id": "642131ad",
   "metadata": {},
   "outputs": [],
   "source": [
    "# y_predicted=predict(X_te,y_te,w_f,b_f)   \n"
   ]
  },
  {
   "cell_type": "markdown",
   "id": "152a13ab",
   "metadata": {},
   "source": [
    "# Cost Function"
   ]
  },
  {
   "cell_type": "code",
   "execution_count": 8,
   "id": "492f813b",
   "metadata": {},
   "outputs": [],
   "source": [
    "# def cost_function(X,y,w,b):\n",
    "        \n",
    "#     n,m=X.shape\n",
    "#     total_cost=0\n",
    "#     for i in range(n):\n",
    "#         f_wb_i=np.dot(X[i],w)+b\n",
    "#         cost=(f_wb_i-y[i])**2\n",
    "#         total_cost+=cost\n",
    "#     cost_f=total_cost/(2*n)\n",
    "#     return cost_f\n",
    "\n",
    "\n",
    "def cost_function(X, y, w, b):\n",
    "    n = X.shape[0]\n",
    "    total_cost = np.sum((np.dot(X, w) + b - y) ** 2)\n",
    "    return total_cost / (2 * n)"
   ]
  },
  {
   "cell_type": "code",
   "execution_count": 9,
   "id": "9d126c73",
   "metadata": {},
   "outputs": [],
   "source": [
    "# cost=cost_function(X_tr,y_tr,pr)\n",
    "# cost"
   ]
  },
  {
   "cell_type": "markdown",
   "id": "daf18b71",
   "metadata": {},
   "source": [
    "# Gradient Descent"
   ]
  },
  {
   "cell_type": "code",
   "execution_count": 10,
   "id": "e33ab9c3",
   "metadata": {},
   "outputs": [],
   "source": [
    "def compute_gradient(X,y,w,b):\n",
    "    n,m = X.shape           #(number of examples, number of features)\n",
    "    dj_dw = np.zeros((m,))\n",
    "    dj_db = 0.\n",
    "    \n",
    "    \n",
    "    for i in range(n):                             \n",
    "        err = (np.dot(X[i], w) + b) - y[i]   \n",
    "        for j in range(m):                         \n",
    "            dj_dw[j] = dj_dw[j] + err * X[i, j]    \n",
    "        dj_db = dj_db + err                        \n",
    "    dj_dw = dj_dw / n                                \n",
    "    dj_db = dj_db / n                                \n",
    "        \n",
    "    return dj_db, dj_dw\n",
    " "
   ]
  },
  {
   "cell_type": "code",
   "execution_count": 11,
   "id": "ef63524c",
   "metadata": {},
   "outputs": [],
   "source": [
    "# compute_gradient(X,y,w_init,b_init)"
   ]
  },
  {
   "cell_type": "code",
   "execution_count": 12,
   "id": "6b5828b2",
   "metadata": {},
   "outputs": [],
   "source": [
    "\n",
    "def gradient_descent(X, y, w_init,b_init, gradient_function, cost_function, alpha, num_iter):\n",
    "    w = copy.deepcopy(w_init)  #avoid modifying global w within function\n",
    "    b = b_init\n",
    "    J_history=[]\n",
    "    for i in range(num_iter):\n",
    "\n",
    "        # Calculate the gradient and update the parameters\n",
    "        dj_db,dj_dw = gradient_function(X, y, w, b)   ##None\n",
    "\n",
    "        # Update Parameters using w, b, alpha and gradient\n",
    "        w = w - alpha * dj_dw               ##None\n",
    "        b = b - alpha * dj_db  \n",
    "        \n",
    "        \n",
    "        if i<100000:\n",
    "            J_history.append(cost_function(X,y,w,b))\n",
    "            \n",
    "    return w,b, J_history\n",
    "    "
   ]
  },
  {
   "cell_type": "code",
   "execution_count": 13,
   "id": "5c4c5a1d",
   "metadata": {},
   "outputs": [],
   "source": [
    "n,m=X_tr.shape\n",
    "w_init=np.zeros(m)\n",
    "b_init=0\n",
    "alpha=5.0e-6\n",
    "\n",
    "\n",
    "w_final,b_final,J_history=gradient_descent(X_tr,y_tr,w_init,b_init,compute_gradient,cost_function, alpha ,10000)"
   ]
  },
  {
   "cell_type": "code",
   "execution_count": 14,
   "id": "d463f44b",
   "metadata": {},
   "outputs": [
    {
     "name": "stdout",
     "output_type": "stream",
     "text": [
      "[6.65493658 3.95505212 5.97749698 3.8697085 ] 0.1694601681750618\n"
     ]
    }
   ],
   "source": [
    "print(w_final, b_final)"
   ]
  },
  {
   "cell_type": "code",
   "execution_count": 15,
   "id": "06ab542a",
   "metadata": {},
   "outputs": [
    {
     "data": {
      "text/plain": [
       "[2745.370546742666,\n",
       " 2745.3436736079425,\n",
       " 2745.316800764891,\n",
       " 2745.2899282135063,\n",
       " 2745.263055953786]"
      ]
     },
     "execution_count": 15,
     "metadata": {},
     "output_type": "execute_result"
    }
   ],
   "source": [
    "J_history[-5:]"
   ]
  },
  {
   "cell_type": "code",
   "execution_count": 16,
   "id": "58687a77",
   "metadata": {},
   "outputs": [
    {
     "data": {
      "text/plain": [
       "array([501.25322541, 505.46201325, 493.20829816, 503.32222239,\n",
       "       493.40650209, 514.94784841, 507.2563255 , 505.80951795,\n",
       "       496.70126708, 502.91224986, 493.85971571, 504.41662328,\n",
       "       488.54088564, 504.83078526, 501.0170397 , 493.97061415,\n",
       "       507.20538716, 498.07933792, 504.56974317, 499.97952239,\n",
       "       514.48209144, 508.36118421, 504.67397701, 521.62342249,\n",
       "       499.09605141, 489.61833657, 511.23234812, 505.78141868,\n",
       "       491.59008666, 481.91805191, 503.05280933, 504.94305414,\n",
       "       502.33766125, 487.02556479, 502.31216504, 496.80542351,\n",
       "       487.9869899 , 494.66808096, 501.69194836, 501.36356621,\n",
       "       499.40089015, 509.32706418, 501.2333958 , 500.86413604,\n",
       "       513.10995345, 497.79310195, 532.17429178, 507.51488167,\n",
       "       489.81530781, 503.14367445, 498.26385927, 503.92005379,\n",
       "       517.04883911, 522.65363804, 497.29534798, 495.62031052,\n",
       "       494.31207644, 507.05021758, 504.75899931, 505.7754301 ,\n",
       "       513.10986593, 492.17847709, 502.10342928, 505.72413484,\n",
       "       500.97836463, 500.04701987, 500.98336004, 520.36458761,\n",
       "       490.44661913, 506.10567645, 511.21892113, 519.22839269,\n",
       "       507.20641228, 503.38830208, 492.11862202, 504.7068439 ,\n",
       "       492.13237808, 511.44520059, 491.8566015 , 518.50732639,\n",
       "       524.21809702, 515.59020376, 487.76263491, 516.0460067 ,\n",
       "       511.21619612, 501.9371373 , 503.68279083, 506.5229071 ,\n",
       "       474.25671773, 507.99963314, 514.55028871, 517.15412126,\n",
       "       494.91629887, 511.65624806, 505.88231191, 515.64946229,\n",
       "       507.5393448 , 505.45056447, 489.78882323, 484.16702339,\n",
       "       506.41479337, 500.27637963, 510.60353354, 495.86479706,\n",
       "       502.39549395, 518.36213141, 510.87325651, 508.1820226 ,\n",
       "       502.28852928, 508.44120805, 502.55866914, 495.97649256,\n",
       "       507.51712574, 502.62621562, 522.6894282 , 518.33248358,\n",
       "       525.43462373, 490.14406738, 501.10505573, 512.85146464,\n",
       "       512.9136008 , 510.08013324, 501.27522162, 508.52566152,\n",
       "       511.48330137, 499.57173194, 495.03513745, 494.29625526,\n",
       "       499.66848067, 492.6296431 , 492.20517721, 497.17588634,\n",
       "       492.56470898, 510.25434334, 487.41848892, 499.29808994,\n",
       "       496.41977115, 527.85505838, 501.71044761, 511.62146233,\n",
       "       497.35947621, 485.20460461, 511.93783569, 496.4381624 ,\n",
       "       493.54071855, 518.38271063, 500.2195144 , 518.31547046,\n",
       "       500.85096523, 499.95716402])"
      ]
     },
     "execution_count": 16,
     "metadata": {},
     "output_type": "execute_result"
    }
   ],
   "source": [
    "y_predicted=predict(X_te,w_final,b_final)   \n",
    "y_predicted"
   ]
  },
  {
   "cell_type": "code",
   "execution_count": 17,
   "id": "aed384a7",
   "metadata": {},
   "outputs": [
    {
     "data": {
      "text/plain": [
       "2308.8408884933865"
      ]
     },
     "execution_count": 17,
     "metadata": {},
     "output_type": "execute_result"
    }
   ],
   "source": [
    "cost=cost_function(X_te,y_te,w_final, b_final)\n",
    "cost"
   ]
  },
  {
   "cell_type": "code",
   "execution_count": 18,
   "id": "49d3c305",
   "metadata": {},
   "outputs": [
    {
     "data": {
      "image/png": "[encoded data removed]",
      "text/plain": [
       "<Figure size 640x480 with 1 Axes>"
      ]
     },
     "metadata": {},
     "output_type": "display_data"
    }
   ],
   "source": [
    "plt.scatter(X_te[:,3],y_te, label='actual data')     #column = matrix[:, 1]\n",
    "plt.scatter(X_te[:,3],y_predicted,label='prediction', c='r')\n",
    "\n",
    "plt.legend()\n",
    "plt.show()"
   ]
  },
  {
   "cell_type": "markdown",
   "id": "b430be3d",
   "metadata": {},
   "source": []
  },
  {
   "cell_type": "code",
   "execution_count": 19,
   "id": "abb520bc",
   "metadata": {},
   "outputs": [
    {
     "data": {
      "text/plain": [
       "[<matplotlib.lines.Line2D at 0x2ecab1ca350>]"
      ]
     },
     "execution_count": 19,
     "metadata": {},
     "output_type": "execute_result"
    },
    {
     "data": {
      "image/png": "[encoded data removed]",
      "text/plain": [
       "<Figure size 640x480 with 1 Axes>"
      ]
     },
     "metadata": {},
     "output_type": "display_data"
    }
   ],
   "source": [
    "iterations = range(len(J_history))   #10000\n",
    "\n",
    "plt.plot(iterations, J_history)"
   ]
  },
  {
   "cell_type": "code",
   "execution_count": null,
   "id": "fc8d8170",
   "metadata": {},
   "outputs": [],
   "source": []
  },
  {
   "cell_type": "code",
   "execution_count": null,
   "id": "5f0aa537",
   "metadata": {},
   "outputs": [],
   "source": []
  },
  {
   "cell_type": "code",
   "execution_count": null,
   "id": "e2ccce0d",
   "metadata": {},
   "outputs": [],
   "source": []
  },
  {
   "cell_type": "markdown",
   "id": "e5c0e21c",
   "metadata": {},
   "source": [
    "# Using Sklearn Library"
   ]
  },
  {
   "cell_type": "markdown",
   "id": "0afab6f9",
   "metadata": {},
   "source": [
    "# Splitting the data"
   ]
  },
  {
   "cell_type": "code",
   "execution_count": 20,
   "id": "dcaf08e2",
   "metadata": {},
   "outputs": [],
   "source": [
    "from sklearn.model_selection import train_test_split"
   ]
  },
  {
   "cell_type": "code",
   "execution_count": 21,
   "id": "24f814a8",
   "metadata": {},
   "outputs": [],
   "source": [
    "X = data[['Avg. Session Length', 'Time on App', 'Time on Website', 'Length of Membership']]\n",
    "y = data['Yearly Amount Spent']\n",
    "\n",
    "\n",
    "X_train, X_test, y_train, y_test = train_test_split(X,y,test_size=0.3, random_state=42)"
   ]
  },
  {
   "cell_type": "markdown",
   "id": "0e00e6d8",
   "metadata": {},
   "source": [
    "# Scale Data"
   ]
  },
  {
   "cell_type": "code",
   "execution_count": 22,
   "id": "a5641f8d",
   "metadata": {},
   "outputs": [],
   "source": [
    "# from sklearn.preprocessing import StandardScaler\n",
    "\n",
    "# scaler=StandardScaler()\n",
    "\n",
    "# X_norm_tr=scaler.fit_transform(X_train)\n",
    "# X_norm_te=scaler.fit_transform(X_test)"
   ]
  },
  {
   "cell_type": "markdown",
   "id": "1c2368e2",
   "metadata": {},
   "source": [
    "# Training the Model with multivariable regression using Scikit Learn"
   ]
  },
  {
   "cell_type": "code",
   "execution_count": 23,
   "id": "480babde",
   "metadata": {},
   "outputs": [
    {
     "name": "stdout",
     "output_type": "stream",
     "text": [
      "SGDRegressor()\n"
     ]
    }
   ],
   "source": [
    "from sklearn.linear_model import SGDRegressor\n",
    "\n",
    "sgdr= SGDRegressor(max_iter=1000)\n",
    "\n",
    "sgdr.fit(X_train,y_train)\n",
    "\n",
    "print(sgdr)\n"
   ]
  },
  {
   "cell_type": "code",
   "execution_count": 24,
   "id": "e1e4dd93",
   "metadata": {},
   "outputs": [
    {
     "name": "stdout",
     "output_type": "stream",
     "text": [
      "[ 4.76178285e+10  5.75241020e+09 -1.47934483e+10  4.79225934e+10] [-5.70352206e+09]\n"
     ]
    }
   ],
   "source": [
    "# the coefficients\n",
    "\n",
    "b_norm=sgdr.intercept_\n",
    "\n",
    "w_norm=sgdr.coef_\n",
    "\n",
    "print(w_norm, b_norm)"
   ]
  },
  {
   "cell_type": "code",
   "execution_count": null,
   "id": "66b4170d",
   "metadata": {},
   "outputs": [],
   "source": []
  },
  {
   "cell_type": "markdown",
   "id": "dcb87a1f",
   "metadata": {},
   "source": [
    "# Make Prediction"
   ]
  },
  {
   "cell_type": "code",
   "execution_count": 25,
   "id": "8b0c610e",
   "metadata": {},
   "outputs": [
    {
     "name": "stdout",
     "output_type": "stream",
     "text": [
      "[1.16826741e+12 1.26705819e+12 1.19018062e+12 1.20695627e+12\n",
      " 1.15331108e+12 1.23147687e+12 1.36062752e+12 1.26199536e+12\n",
      " 1.17939558e+12 1.25499118e+12 1.18698693e+12 1.21526923e+12\n",
      " 1.21750957e+12 1.37979275e+12 1.18247848e+12 1.25507414e+12\n",
      " 1.29583770e+12 1.25976097e+12 1.23292189e+12 1.26427025e+12\n",
      " 1.30729919e+12 1.31754612e+12 1.20098140e+12 1.34602125e+12\n",
      " 1.25270823e+12 1.29187032e+12 1.28555632e+12 1.34384367e+12\n",
      " 1.16233490e+12 1.13219068e+12 1.33786594e+12 1.20455491e+12\n",
      " 1.26928455e+12 1.10281368e+12 1.27861143e+12 1.28033194e+12\n",
      " 1.27865849e+12 1.22963201e+12 1.20685976e+12 1.23304159e+12\n",
      " 1.29553972e+12 1.18535893e+12 1.28095342e+12 1.23938544e+12\n",
      " 1.18813850e+12 1.32147452e+12 1.31994154e+12 1.30348679e+12\n",
      " 1.05150093e+12 1.10730578e+12 1.19862580e+12 1.20059504e+12\n",
      " 1.27008358e+12 1.29899231e+12 1.24638702e+12 1.31746177e+12\n",
      " 1.16263202e+12 1.11857504e+12 1.39993753e+12 1.25672386e+12\n",
      " 1.23405396e+12 1.17269406e+12 1.25308089e+12 1.25377564e+12\n",
      " 1.24784071e+12 1.28120969e+12 1.24680646e+12 1.34927994e+12\n",
      " 1.12089754e+12 1.26502288e+12 1.36798348e+12 1.35363742e+12\n",
      " 1.30005400e+12 1.22372712e+12 1.21761108e+12 1.28359210e+12\n",
      " 1.18825227e+12 1.16938826e+12 1.28087437e+12 1.31797964e+12\n",
      " 1.42296039e+12 1.31922460e+12 1.20540641e+12 1.41960464e+12\n",
      " 1.27486120e+12 1.17190628e+12 1.25762100e+12 1.25879637e+12\n",
      " 1.07207596e+12 1.20494804e+12 1.26564491e+12 1.24352117e+12\n",
      " 1.25735238e+12 1.31185441e+12 1.25940083e+12 1.35389211e+12\n",
      " 1.25783502e+12 1.16742131e+12 1.20232999e+12 1.15584121e+12\n",
      " 1.30052709e+12 1.25890323e+12 1.27256974e+12 1.30113960e+12\n",
      " 1.18383376e+12 1.19287940e+12 1.21855173e+12 1.25869176e+12\n",
      " 1.23352696e+12 1.26116379e+12 1.28431217e+12 1.27392769e+12\n",
      " 1.17112133e+12 1.20691305e+12 1.31148367e+12 1.32055186e+12\n",
      " 1.35458951e+12 1.09935090e+12 1.34325226e+12 1.32784694e+12\n",
      " 1.30351138e+12 1.25841862e+12 1.10725566e+12 1.33439987e+12\n",
      " 1.30307360e+12 1.16147438e+12 1.19140999e+12 1.11280498e+12\n",
      " 1.27297155e+12 1.18979936e+12 1.28954358e+12 1.19765188e+12\n",
      " 1.21237311e+12 1.36958941e+12 1.18939684e+12 1.31221912e+12\n",
      " 1.33059506e+12 1.42828396e+12 1.15147224e+12 1.32739398e+12\n",
      " 1.31116721e+12 1.24423313e+12 1.23306504e+12 1.25454844e+12\n",
      " 1.21568699e+12 1.32699415e+12 1.27196652e+12 1.30889393e+12\n",
      " 1.24267522e+12 1.20888437e+12]\n",
      "[1.16826741e+12 1.26705819e+12 1.19018062e+12 1.20695627e+12\n",
      " 1.15331108e+12 1.23147687e+12 1.36062752e+12 1.26199536e+12\n",
      " 1.17939558e+12 1.25499118e+12 1.18698693e+12 1.21526923e+12\n",
      " 1.21750957e+12 1.37979275e+12 1.18247848e+12 1.25507414e+12\n",
      " 1.29583770e+12 1.25976097e+12 1.23292189e+12 1.26427025e+12\n",
      " 1.30729919e+12 1.31754612e+12 1.20098140e+12 1.34602125e+12\n",
      " 1.25270823e+12 1.29187032e+12 1.28555632e+12 1.34384367e+12\n",
      " 1.16233490e+12 1.13219068e+12 1.33786594e+12 1.20455491e+12\n",
      " 1.26928455e+12 1.10281368e+12 1.27861143e+12 1.28033194e+12\n",
      " 1.27865849e+12 1.22963201e+12 1.20685976e+12 1.23304159e+12\n",
      " 1.29553972e+12 1.18535893e+12 1.28095342e+12 1.23938544e+12\n",
      " 1.18813850e+12 1.32147452e+12 1.31994154e+12 1.30348679e+12\n",
      " 1.05150093e+12 1.10730578e+12 1.19862580e+12 1.20059504e+12\n",
      " 1.27008358e+12 1.29899231e+12 1.24638702e+12 1.31746177e+12\n",
      " 1.16263202e+12 1.11857504e+12 1.39993753e+12 1.25672386e+12\n",
      " 1.23405396e+12 1.17269406e+12 1.25308089e+12 1.25377564e+12\n",
      " 1.24784071e+12 1.28120969e+12 1.24680646e+12 1.34927994e+12\n",
      " 1.12089754e+12 1.26502288e+12 1.36798348e+12 1.35363742e+12\n",
      " 1.30005400e+12 1.22372712e+12 1.21761108e+12 1.28359210e+12\n",
      " 1.18825227e+12 1.16938826e+12 1.28087437e+12 1.31797964e+12\n",
      " 1.42296039e+12 1.31922460e+12 1.20540641e+12 1.41960464e+12\n",
      " 1.27486120e+12 1.17190628e+12 1.25762100e+12 1.25879637e+12\n",
      " 1.07207596e+12 1.20494804e+12 1.26564491e+12 1.24352117e+12\n",
      " 1.25735238e+12 1.31185441e+12 1.25940083e+12 1.35389211e+12\n",
      " 1.25783502e+12 1.16742131e+12 1.20232999e+12 1.15584121e+12\n",
      " 1.30052709e+12 1.25890323e+12 1.27256974e+12 1.30113960e+12\n",
      " 1.18383376e+12 1.19287940e+12 1.21855173e+12 1.25869176e+12\n",
      " 1.23352696e+12 1.26116379e+12 1.28431217e+12 1.27392769e+12\n",
      " 1.17112133e+12 1.20691305e+12 1.31148367e+12 1.32055186e+12\n",
      " 1.35458951e+12 1.09935090e+12 1.34325226e+12 1.32784694e+12\n",
      " 1.30351138e+12 1.25841862e+12 1.10725566e+12 1.33439987e+12\n",
      " 1.30307360e+12 1.16147438e+12 1.19140999e+12 1.11280498e+12\n",
      " 1.27297155e+12 1.18979936e+12 1.28954358e+12 1.19765188e+12\n",
      " 1.21237311e+12 1.36958941e+12 1.18939684e+12 1.31221912e+12\n",
      " 1.33059506e+12 1.42828396e+12 1.15147224e+12 1.32739398e+12\n",
      " 1.31116721e+12 1.24423313e+12 1.23306504e+12 1.25454844e+12\n",
      " 1.21568699e+12 1.32699415e+12 1.27196652e+12 1.30889393e+12\n",
      " 1.24267522e+12 1.20888437e+12]\n"
     ]
    }
   ],
   "source": [
    "#using sgdr.predict()\n",
    "y_pred_sgd=sgdr.predict(X_test)\n",
    "print(y_pred_sgd)\n",
    "\n",
    "#without sgdr\n",
    "y_pred_=np.dot(X_test, w_norm)+b_norm\n",
    "\n",
    "print(y_pred_)"
   ]
  },
  {
   "cell_type": "code",
   "execution_count": 26,
   "id": "40f690a8",
   "metadata": {},
   "outputs": [
    {
     "name": "stdout",
     "output_type": "stream",
     "text": [
      "     Avg. Session Length  Time on App  Time on Website  Length of Membership\n",
      "361            32.077590    10.347877        39.045156              3.434560\n",
      "73             32.808698    12.817113        37.031539              3.851579\n",
      "374            31.447446    10.101632        38.043453              4.238296\n",
      "155            32.449522    13.457725        37.238806              2.941411\n",
      "104            31.389585    10.994224        38.074452              3.428860\n",
      "..                   ...          ...              ...                   ...\n",
      "266            34.555283    11.777772        37.979827              3.784273\n",
      "23             32.903251    11.657576        36.772604              3.919302\n",
      "222            34.334865    11.109456        38.585855              3.892891\n",
      "261            32.550527    13.041245        36.655208              3.456234\n",
      "426            31.425227    13.271475        37.239847              4.022103\n",
      "\n",
      "[150 rows x 4 columns]\n"
     ]
    },
    {
     "data": {
      "image/png": "[encoded data removed]",
      "text/plain": [
       "<Figure size 640x480 with 1 Axes>"
      ]
     },
     "metadata": {},
     "output_type": "display_data"
    }
   ],
   "source": [
    "print(X_test)\n",
    "\n",
    "plt.scatter(X_test['Time on Website'],y_test, label='actual data')     #column = matrix[:, 1]\n",
    "plt.scatter(X_test['Time on Website'],y_pred_ ,label='prediction', c='r')\n",
    "\n",
    "plt.legend()\n",
    "plt.show()"
   ]
  },
  {
   "cell_type": "code",
   "execution_count": null,
   "id": "5043aa1b",
   "metadata": {},
   "outputs": [],
   "source": []
  },
  {
   "cell_type": "code",
   "execution_count": null,
   "id": "35a8d23f",
   "metadata": {},
   "outputs": [],
   "source": [
    "\n"
   ]
  },
  {
   "cell_type": "code",
   "execution_count": 27,
   "id": "2e8eaccb",
   "metadata": {},
   "outputs": [
    {
     "name": "stdout",
     "output_type": "stream",
     "text": [
      "Final weights: [ 11.84547531  34.60565417 -14.02846094  60.39637817]\n",
      "Final bias: -2.7670698182303894\n",
      "Cost on test set: 230.2415106230608\n",
      "[267.4472470442188, 267.4471234166539, 267.44699979084413, 267.44687616678726, 267.4467525444806]\n"
     ]
    },
    {
     "data": {
      "image/png": "[encoded data removed]",
      "text/plain": [
       "<Figure size 640x480 with 1 Axes>"
      ]
     },
     "metadata": {},
     "output_type": "display_data"
    }
   ],
   "source": [
    "import numpy as np\n",
    "import pandas as pd\n",
    "import matplotlib.pyplot as plt\n",
    "import math, copy\n",
    "\n",
    "# Load data\n",
    "data = pd.read_csv('Ecommerce')\n",
    "\n",
    "# Select features and target variable\n",
    "X = data[['Avg. Session Length', 'Time on App', 'Time on Website', 'Length of Membership']]\n",
    "y = data['Yearly Amount Spent']\n",
    "\n",
    "from sklearn.model_selection import train_test_split\n",
    "\n",
    "# Split data into training and test sets\n",
    "X_train, X_test, y_train, y_test = train_test_split(X, y, test_size=0.3, random_state=42)\n",
    "\n",
    "# Convert data to numpy arrays\n",
    "X_tr = X_train.to_numpy()\n",
    "y_tr = y_train.to_numpy()\n",
    "X_te = X_test.to_numpy()\n",
    "y_te = y_test.to_numpy()\n",
    "\n",
    "# Corrected predict function to not take y as an argument\n",
    "def predict(X, w, b):\n",
    "    return np.dot(X, w) + b  # Removed y from parameters and corrected implementation\n",
    "\n",
    "# Corrected cost_function to match the current numpy style implementation\n",
    "def cost_function(X, y, w, b):\n",
    "    n = X.shape[0]\n",
    "    total_cost = np.sum((np.dot(X, w) + b - y) ** 2)\n",
    "    return total_cost / (2 * n)\n",
    "\n",
    "# Compute gradient function remains unchanged\n",
    "def compute_gradient(X, y, w, b):\n",
    "    n, m = X.shape\n",
    "    dj_dw = np.zeros((m,))\n",
    "    dj_db = 0.\n",
    "\n",
    "    for i in range(n):\n",
    "        err = (np.dot(X[i], w) + b) - y[i]\n",
    "        for j in range(m):\n",
    "            dj_dw[j] += err * X[i, j]\n",
    "        dj_db += err\n",
    "    dj_dw /= n\n",
    "    dj_db /= n\n",
    "\n",
    "    return dj_db, dj_dw\n",
    "\n",
    "# Gradient descent function remains mostly unchanged\n",
    "def gradient_descent(X, y, w_init, b_init, gradient_function, cost_function, alpha, num_iter):\n",
    "    w = copy.deepcopy(w_init)\n",
    "    b = b_init\n",
    "    J_history = []\n",
    "\n",
    "    for i in range(num_iter):\n",
    "        dj_db, dj_dw = gradient_function(X, y, w, b)\n",
    "        w -= alpha * dj_dw\n",
    "        b -= alpha * dj_db\n",
    "\n",
    "        if i < 100000:\n",
    "            J_history.append(cost_function(X, y, w, b))\n",
    "            \n",
    "    return w, b, J_history\n",
    "\n",
    "# Initialize parameters\n",
    "n, m = X_tr.shape\n",
    "w_init = np.zeros(m)\n",
    "b_init = 0\n",
    "alpha = 70.0e-5\n",
    "\n",
    "# Run gradient descent\n",
    "w_final, b_final, J_history = gradient_descent(X_tr, y_tr, w_init, b_init, compute_gradient, cost_function, alpha, 10000)\n",
    "\n",
    "# Use the predict function to make predictions\n",
    "y_predicted = predict(X_te, w_final, b_final)  # Corrected predict function call\n",
    "\n",
    "# Calculate the cost on the test set\n",
    "cost = cost_function(X_te, y_te, w_final, b_final)\n",
    "\n",
    "# Print final weights, bias, and cost on the test set\n",
    "print(f\"Final weights: {w_final}\")\n",
    "print(f\"Final bias: {b_final}\")\n",
    "print(f\"Cost on test set: {cost}\")\n",
    "\n",
    "print(J_history[-5:])\n",
    "\n",
    "\n",
    "# Plot cost function history\n",
    "plt.plot(J_history)\n",
    "plt.xlabel('Iteration')\n",
    "plt.ylabel('Cost')\n",
    "plt.title('Cost function history')\n",
    "plt.show()\n"
   ]
  },
  {
   "cell_type": "code",
   "execution_count": 28,
   "id": "2906fcbe",
   "metadata": {},
   "outputs": [
    {
     "data": {
      "image/png": "[encoded data removed]",
      "text/plain": [
       "<Figure size 640x480 with 1 Axes>"
      ]
     },
     "metadata": {},
     "output_type": "display_data"
    }
   ],
   "source": [
    "plt.scatter(X_te[:,3],y_te, label='actual data')     #column = matrix[:, 1]\n",
    "plt.scatter(X_te[:,3],y_predicted,label='prediction', c='r')\n",
    "\n",
    "plt.legend()\n",
    "plt.show()"
   ]
  },
  {
   "cell_type": "code",
   "execution_count": 29,
   "id": "5debeef6",
   "metadata": {},
   "outputs": [
    {
     "data": {
      "text/plain": [
       "[<matplotlib.lines.Line2D at 0x2ecab154d90>]"
      ]
     },
     "execution_count": 29,
     "metadata": {},
     "output_type": "execute_result"
    },
    {
     "data": {
      "image/png": "[encoded data removed]",
      "text/plain": [
       "<Figure size 640x480 with 1 Axes>"
      ]
     },
     "metadata": {},
     "output_type": "display_data"
    }
   ],
   "source": [
    "iterations = range(len(J_history))   #10000\n",
    "\n",
    "plt.plot(iterations, J_history)"
   ]
  },
  {
   "cell_type": "code",
   "execution_count": null,
   "id": "d1efaa1a",
   "metadata": {},
   "outputs": [],
   "source": []
  }
 ],
 "metadata": {
  "kernelspec": {
   "display_name": "Python 3 (ipykernel)",
   "language": "python",
   "name": "python3"
  },
  "language_info": {
   "codemirror_mode": {
    "name": "ipython",
    "version": 3
   },
   "file_extension": ".py",
   "mimetype": "text/x-python",
   "name": "python",
   "nbconvert_exporter": "python",
   "pygments_lexer": "ipython3",
   "version": "3.11.5"
  }
 },
 "nbformat": 4,
 "nbformat_minor": 5
}
